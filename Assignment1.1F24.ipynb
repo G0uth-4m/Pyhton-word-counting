{
 "cells": [
  {
   "cell_type": "code",
   "id": "initial_id",
   "metadata": {
    "collapsed": true,
    "ExecuteTime": {
     "end_time": "2024-10-23T05:49:27.023441Z",
     "start_time": "2024-10-23T05:49:27.009282Z"
    }
   },
   "source": [
    "#Create a program that takes a text file, \n",
    "# counts how many times each word appears in the text file, \n",
    "# and saves a report of words from most to least frequent to a text file.\n",
    "\n",
    "import os\n",
    "from collections import Counter\n",
    "import string\n",
    "\n",
    "# Define the input and output file names\n",
    "input_filename = 'sample.txt'  # Input text file\n",
    "output_filename = 'final_report.txt'  # Output file for word frequency report\n",
    "\n",
    "# Load the file content\n",
    "if not os.path.exists(input_filename):\n",
    "    print(f\"Error: The file '{input_filename}' does not exist.\")\n",
    "else:\n",
    "    with open(input_filename, 'r', encoding='utf-8') as file:\n",
    "        text = file.read()  # Read the entire content of the file\n",
    "\n",
    "    # Count words directly\n",
    "    text = text.lower()  # Convert to lowercase\n",
    "    text = text.translate(str.maketrans('', '', string.punctuation))  # Remove punctuation\n",
    "    words = text.split()  # Split text into words\n",
    "    word_counts = Counter(words)  # Count word frequencies\n",
    "\n",
    "    # Save the report to a file\n",
    "    with open(output_filename, 'w', encoding='utf-8') as report_file:\n",
    "        report_file.write(\"Word\\t\\tFrequency\\n\")\n",
    "        report_file.write(\"-------------------------\\n\")\n",
    "        for word, count in word_counts.most_common():\n",
    "            report_file.write(f\"{word:<10} | {count:>2}\\n\")  # Write each word and its count\n",
    "\n",
    "    print(f\"Word frequency report saved to '{output_filename}'.\")\n"
   ],
   "outputs": [
    {
     "name": "stdout",
     "output_type": "stream",
     "text": [
      "Word frequency report saved to 'final_report.txt'.\n"
     ]
    }
   ],
   "execution_count": 27
  },
  {
   "metadata": {
    "ExecuteTime": {
     "end_time": "2024-10-23T03:34:17.124961Z",
     "start_time": "2024-10-23T03:34:17.121083Z"
    }
   },
   "cell_type": "code",
   "source": "",
   "id": "9eb442294bda03f7",
   "outputs": [],
   "execution_count": null
  }
 ],
 "metadata": {
  "kernelspec": {
   "display_name": "Python 3",
   "language": "python",
   "name": "python3"
  },
  "language_info": {
   "codemirror_mode": {
    "name": "ipython",
    "version": 2
   },
   "file_extension": ".py",
   "mimetype": "text/x-python",
   "name": "python",
   "nbconvert_exporter": "python",
   "pygments_lexer": "ipython2",
   "version": "2.7.6"
  }
 },
 "nbformat": 4,
 "nbformat_minor": 5
}
